{
 "cells": [
  {
   "cell_type": "markdown",
   "id": "b43e0ec0",
   "metadata": {},
   "source": [
    "### Packages"
   ]
  },
  {
   "cell_type": "code",
   "execution_count": 21,
   "id": "253e1d28",
   "metadata": {},
   "outputs": [],
   "source": [
    "import os\n",
    "import pandas as pd\n",
    "import numpy as np"
   ]
  },
  {
   "cell_type": "markdown",
   "id": "3b37463a",
   "metadata": {},
   "source": [
    "### Set Variables"
   ]
  },
  {
   "cell_type": "code",
   "execution_count": null,
   "id": "b6d41d57",
   "metadata": {},
   "outputs": [],
   "source": [
    "# Folder containing .out files\n",
    "folder_path = 'provide the folder path - where scans.out are'\n",
    "# Lists to store data from .out files\n",
    "content = []\n",
    "content_energy = []\n",
    "# Keywords where energies are stored in G16 .out file\n",
    "start_word = '\\HF='\n",
    "end_word = '\\S2'\n",
    "# Path where the energies in txt format will be stored\n",
    "path_file = \"provide the folder path where you want to save energies.txt file/energies_test.txt\"\n",
    "# Path where the energies in excel format will be stored\n",
    "name_file = \"provide the folder path where you want to save energies.txt file/rel_energy.xlsx\""
   ]
  },
  {
   "cell_type": "markdown",
   "id": "196e6977",
   "metadata": {},
   "source": [
    "### Functions"
   ]
  },
  {
   "cell_type": "code",
   "execution_count": null,
   "id": "4b3d0b0d",
   "metadata": {},
   "outputs": [],
   "source": [
    "# Function to extract content from a single file\n",
    "def extract_content(file_path):\n",
    "    extracted_content = []\n",
    "    with open(file_path, 'r') as file:\n",
    "        start = False\n",
    "        for line in file:\n",
    "            line = line.strip()\n",
    "            if start_word in line:\n",
    "                start = True\n",
    "                extracted_content.append(line)\n",
    "                continue\n",
    "            if start and end_word in line:\n",
    "                extracted_content.append(line)\n",
    "                content.append(extracted_content)\n",
    "                break\n",
    "            if start:\n",
    "                extracted_content.append(line)\n",
    "                \n",
    "# Function to extract only energy values from the extracted_content\n",
    "def extract_energies(content):\n",
    "    energies_list = []  # Create an empty list to store the extracted energies\n",
    "\n",
    "    for i in content:\n",
    "        text_string = ''.join(i)\n",
    "\n",
    "        # Find the position of the first character \"\\HF=\"\n",
    "        first_word = text_string.find(\"\\HF=\")\n",
    "\n",
    "        # Find the position of the last character \"\\S2\"\n",
    "        last_word = text_string.rfind(\"\\S2=\")\n",
    "\n",
    "        # Check if both characters were found\n",
    "        if first_word != -1 and last_word != -1:\n",
    "            # Extract the substring between \"\\HF=\" and \"\\S2\"\n",
    "            energies = text_string[first_word + 4:last_word]  # Start from 4th character after \"\\HF=\"\n",
    "            energies_list.append(energies)  # Add the extracted energy to the list\n",
    "        else:\n",
    "            print(\"Start or end keywords not found.\")\n",
    "    return energies_list"
   ]
  },
  {
   "cell_type": "markdown",
   "id": "9f1ef410",
   "metadata": {},
   "source": [
    "### Extract lines between keywords \"\\HF=\" and \"\\S2\""
   ]
  },
  {
   "cell_type": "code",
   "execution_count": null,
   "id": "257a5ce1",
   "metadata": {},
   "outputs": [],
   "source": [
    "# List files in the folder and sort them in ascending order\n",
    "file_list = sorted([f for f in os.listdir(folder_path) if f.endswith(\".out\")])\n",
    "\n",
    "# Process each file in ascending order\n",
    "for filename in file_list:\n",
    "    file_path = os.path.join(folder_path, filename)\n",
    "    extract_content(file_path)"
   ]
  },
  {
   "cell_type": "markdown",
   "id": "f718ed00",
   "metadata": {},
   "source": [
    "### Extract only energy values"
   ]
  },
  {
   "cell_type": "code",
   "execution_count": null,
   "id": "62b561fb",
   "metadata": {},
   "outputs": [],
   "source": [
    "energies = extract_energies(content)"
   ]
  },
  {
   "cell_type": "markdown",
   "id": "fbac140b",
   "metadata": {},
   "source": [
    "### Save energy values into a txt file"
   ]
  },
  {
   "cell_type": "code",
   "execution_count": null,
   "id": "14f02893",
   "metadata": {},
   "outputs": [],
   "source": [
    "with open(path_file, 'w') as arquivo:\n",
    "    for value in energies:\n",
    "        arquivo.write(str(value) + '\\n')"
   ]
  },
  {
   "cell_type": "markdown",
   "id": "c8a6f9c6",
   "metadata": {},
   "source": [
    "### Create a dataframe from the energies file"
   ]
  },
  {
   "cell_type": "code",
   "execution_count": null,
   "id": "721fc414",
   "metadata": {},
   "outputs": [],
   "source": [
    "df = pd.read_csv(\"provide the folder path where you want to save energies.txt file/energies_test.txt\", sep=',', header=None)"
   ]
  },
  {
   "cell_type": "code",
   "execution_count": null,
   "id": "76505c60",
   "metadata": {},
   "outputs": [],
   "source": [
    "# Check if table was loaded Correctly \n",
    "df.head()"
   ]
  },
  {
   "cell_type": "markdown",
   "id": "89429c4e",
   "metadata": {},
   "source": [
    "### Find The lowest energy"
   ]
  },
  {
   "cell_type": "code",
   "execution_count": 10,
   "id": "91697e29",
   "metadata": {},
   "outputs": [],
   "source": [
    "min_df = df.min().min()"
   ]
  },
  {
   "cell_type": "markdown",
   "id": "098f8e4d",
   "metadata": {},
   "source": [
    "### Creating new dataframes with the relative energies"
   ]
  },
  {
   "cell_type": "code",
   "execution_count": 13,
   "id": "40151514",
   "metadata": {},
   "outputs": [],
   "source": [
    "df_rel = (df - min_df) * 627.51 "
   ]
  },
  {
   "cell_type": "code",
   "execution_count": 14,
   "id": "d63c3438",
   "metadata": {},
   "outputs": [
    {
     "data": {
      "text/html": [
       "<div>\n",
       "<style scoped>\n",
       "    .dataframe tbody tr th:only-of-type {\n",
       "        vertical-align: middle;\n",
       "    }\n",
       "\n",
       "    .dataframe tbody tr th {\n",
       "        vertical-align: top;\n",
       "    }\n",
       "\n",
       "    .dataframe thead th {\n",
       "        text-align: right;\n",
       "    }\n",
       "</style>\n",
       "<table border=\"1\" class=\"dataframe\">\n",
       "  <thead>\n",
       "    <tr style=\"text-align: right;\">\n",
       "      <th></th>\n",
       "      <th>1</th>\n",
       "      <th>2</th>\n",
       "      <th>3</th>\n",
       "      <th>4</th>\n",
       "      <th>5</th>\n",
       "      <th>6</th>\n",
       "      <th>7</th>\n",
       "      <th>8</th>\n",
       "      <th>9</th>\n",
       "      <th>10</th>\n",
       "      <th>11</th>\n",
       "      <th>12</th>\n",
       "      <th>13</th>\n",
       "      <th>14</th>\n",
       "      <th>15</th>\n",
       "      <th>16</th>\n",
       "      <th>17</th>\n",
       "      <th>18</th>\n",
       "      <th>19</th>\n",
       "    </tr>\n",
       "  </thead>\n",
       "  <tbody>\n",
       "    <tr>\n",
       "      <th>1</th>\n",
       "      <td>10.695406</td>\n",
       "      <td>11.450300</td>\n",
       "      <td>16.912336</td>\n",
       "      <td>27.386042</td>\n",
       "      <td>41.775537</td>\n",
       "      <td>40.742530</td>\n",
       "      <td>24.816640</td>\n",
       "      <td>11.446598</td>\n",
       "      <td>2.857681</td>\n",
       "      <td>0.000000</td>\n",
       "      <td>2.886860</td>\n",
       "      <td>11.483559</td>\n",
       "      <td>24.849898</td>\n",
       "      <td>40.768383</td>\n",
       "      <td>41.724583</td>\n",
       "      <td>27.336846</td>\n",
       "      <td>16.868598</td>\n",
       "      <td>11.422753</td>\n",
       "      <td>10.673631</td>\n",
       "    </tr>\n",
       "    <tr>\n",
       "      <th>2</th>\n",
       "      <td>10.899535</td>\n",
       "      <td>11.664470</td>\n",
       "      <td>17.280621</td>\n",
       "      <td>27.839481</td>\n",
       "      <td>42.480356</td>\n",
       "      <td>42.350838</td>\n",
       "      <td>26.204692</td>\n",
       "      <td>12.952873</td>\n",
       "      <td>4.497490</td>\n",
       "      <td>1.666604</td>\n",
       "      <td>4.522465</td>\n",
       "      <td>12.990900</td>\n",
       "      <td>26.236319</td>\n",
       "      <td>42.381586</td>\n",
       "      <td>30.545430</td>\n",
       "      <td>27.784009</td>\n",
       "      <td>17.236194</td>\n",
       "      <td>11.665285</td>\n",
       "      <td>10.877384</td>\n",
       "    </tr>\n",
       "    <tr>\n",
       "      <th>3</th>\n",
       "      <td>12.623681</td>\n",
       "      <td>13.515624</td>\n",
       "      <td>19.164846</td>\n",
       "      <td>29.427834</td>\n",
       "      <td>43.395705</td>\n",
       "      <td>44.495479</td>\n",
       "      <td>29.257214</td>\n",
       "      <td>16.856487</td>\n",
       "      <td>8.968687</td>\n",
       "      <td>6.339545</td>\n",
       "      <td>8.992720</td>\n",
       "      <td>16.885478</td>\n",
       "      <td>29.294426</td>\n",
       "      <td>44.525600</td>\n",
       "      <td>32.107741</td>\n",
       "      <td>27.807541</td>\n",
       "      <td>19.115712</td>\n",
       "      <td>13.480421</td>\n",
       "      <td>12.595820</td>\n",
       "    </tr>\n",
       "    <tr>\n",
       "      <th>4</th>\n",
       "      <td>16.132404</td>\n",
       "      <td>17.054843</td>\n",
       "      <td>22.468184</td>\n",
       "      <td>31.953311</td>\n",
       "      <td>44.340233</td>\n",
       "      <td>34.379830</td>\n",
       "      <td>29.943146</td>\n",
       "      <td>21.655998</td>\n",
       "      <td>14.550827</td>\n",
       "      <td>12.202057</td>\n",
       "      <td>14.574610</td>\n",
       "      <td>21.684989</td>\n",
       "      <td>32.815824</td>\n",
       "      <td>46.029616</td>\n",
       "      <td>44.291727</td>\n",
       "      <td>31.905056</td>\n",
       "      <td>22.388302</td>\n",
       "      <td>17.010353</td>\n",
       "      <td>16.097577</td>\n",
       "    </tr>\n",
       "    <tr>\n",
       "      <th>5</th>\n",
       "      <td>20.968184</td>\n",
       "      <td>21.725024</td>\n",
       "      <td>26.519765</td>\n",
       "      <td>34.770455</td>\n",
       "      <td>44.691388</td>\n",
       "      <td>46.217304</td>\n",
       "      <td>36.123052</td>\n",
       "      <td>26.774722</td>\n",
       "      <td>20.711972</td>\n",
       "      <td>18.766440</td>\n",
       "      <td>20.734436</td>\n",
       "      <td>26.803525</td>\n",
       "      <td>36.152608</td>\n",
       "      <td>46.234121</td>\n",
       "      <td>44.649909</td>\n",
       "      <td>34.729792</td>\n",
       "      <td>26.481236</td>\n",
       "      <td>21.690762</td>\n",
       "      <td>20.931851</td>\n",
       "    </tr>\n",
       "  </tbody>\n",
       "</table>\n",
       "</div>"
      ],
      "text/plain": [
       "          1          2          3          4          5          6   \\\n",
       "1  10.695406  11.450300  16.912336  27.386042  41.775537  40.742530   \n",
       "2  10.899535  11.664470  17.280621  27.839481  42.480356  42.350838   \n",
       "3  12.623681  13.515624  19.164846  29.427834  43.395705  44.495479   \n",
       "4  16.132404  17.054843  22.468184  31.953311  44.340233  34.379830   \n",
       "5  20.968184  21.725024  26.519765  34.770455  44.691388  46.217304   \n",
       "\n",
       "          7          8          9          10         11         12  \\\n",
       "1  24.816640  11.446598   2.857681   0.000000   2.886860  11.483559   \n",
       "2  26.204692  12.952873   4.497490   1.666604   4.522465  12.990900   \n",
       "3  29.257214  16.856487   8.968687   6.339545   8.992720  16.885478   \n",
       "4  29.943146  21.655998  14.550827  12.202057  14.574610  21.684989   \n",
       "5  36.123052  26.774722  20.711972  18.766440  20.734436  26.803525   \n",
       "\n",
       "          13         14         15         16         17         18         19  \n",
       "1  24.849898  40.768383  41.724583  27.336846  16.868598  11.422753  10.673631  \n",
       "2  26.236319  42.381586  30.545430  27.784009  17.236194  11.665285  10.877384  \n",
       "3  29.294426  44.525600  32.107741  27.807541  19.115712  13.480421  12.595820  \n",
       "4  32.815824  46.029616  44.291727  31.905056  22.388302  17.010353  16.097577  \n",
       "5  36.152608  46.234121  44.649909  34.729792  26.481236  21.690762  20.931851  "
      ]
     },
     "execution_count": 14,
     "metadata": {},
     "output_type": "execute_result"
    }
   ],
   "source": [
    "df_rel.head()"
   ]
  },
  {
   "cell_type": "markdown",
   "id": "ec462f96",
   "metadata": {},
   "source": [
    "### Saving the relative energies into a new excel file"
   ]
  },
  {
   "cell_type": "code",
   "execution_count": 26,
   "id": "3ebf0265",
   "metadata": {},
   "outputs": [],
   "source": [
    "# Create a Pandas Excel writer using ExcelWriter\n",
    "with pd.ExcelWriter('provide the folder path where you want to save energies.txt file/rel_energy.xlsx', engine='xlsxwriter') as writer:\n",
    "    # Save the first DataFrame to the Excel file with the sheet name 'S0_C5'\n",
    "    df_rel.to_excel(writer, sheet_name='name your data tab', index=False)"
   ]
  },
  {
   "cell_type": "code",
   "execution_count": null,
   "id": "f6ffbfcb",
   "metadata": {},
   "outputs": [],
   "source": []
  }
 ],
 "metadata": {
  "kernelspec": {
   "display_name": "Python 3 (ipykernel)",
   "language": "python",
   "name": "python3"
  },
  "language_info": {
   "codemirror_mode": {
    "name": "ipython",
    "version": 3
   },
   "file_extension": ".py",
   "mimetype": "text/x-python",
   "name": "python",
   "nbconvert_exporter": "python",
   "pygments_lexer": "ipython3",
   "version": "3.10.8"
  }
 },
 "nbformat": 4,
 "nbformat_minor": 5
}
